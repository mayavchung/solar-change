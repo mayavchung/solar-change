{
 "cells": [
  {
   "cell_type": "markdown",
   "id": "7b11a105-7714-43e1-92b3-aae82bb48edc",
   "metadata": {},
   "source": [
    "# Get depth-weighted ratio of deep to shallow OHU \n",
    "## input: area-weighted global annual mean\n",
    "\n",
    "Created May 13 2025\n",
    "\n",
    "Begin further down if data already imported"
   ]
  },
  {
   "cell_type": "markdown",
   "id": "5123a608-b529-4316-9f3c-04d6f0562a79",
   "metadata": {},
   "source": [
    "$$OHC=\\rho c_p(hT(t)+H T_d(t))$$\n",
    "$$OHU=\\frac{dOHC}{dt}=\\rho c_p \\left( h\\frac{dT(t)}{dt}+H\\frac{dT_d(t)}{dt} \\right)$$\n",
    "$$\\text{Ratio = deep / shallow: } \\frac{H\\frac{dT_d(t)}{dt}}{h\\frac{dT(t)}{dt}}$$\n"
   ]
  },
  {
   "cell_type": "code",
   "execution_count": 1,
   "id": "96494212",
   "metadata": {
    "ExecuteTime": {
     "end_time": "2024-11-25T21:46:40.131386Z",
     "start_time": "2024-11-25T21:46:39.174535Z"
    }
   },
   "outputs": [],
   "source": [
    "import numpy as np\n",
    "import xarray as xr\n",
    "from tqdm.notebook import tqdm\n",
    "import netCDF4\n",
    "\n",
    "import matplotlib.pyplot as plt\n",
    "from solar_func import find_and_open_xarray_file\n",
    "\n",
    "plt.style.use('../func/paper.mplstyle')"
   ]
  },
  {
   "cell_type": "code",
   "execution_count": 2,
   "id": "b76efe70",
   "metadata": {
    "ExecuteTime": {
     "end_time": "2024-11-25T21:46:40.573045Z",
     "start_time": "2024-11-25T21:46:40.133071Z"
    }
   },
   "outputs": [],
   "source": [
    "# import sys\n",
    "# if '/tigress/wenchang/wython' not in sys.path:\n",
    "#     sys.path.append('/tigress/wenchang/wython')\n",
    "    \n",
    "# from misc.modelout import get_modelout_data, get_modelout_files\n",
    "\n",
    "import sys\n",
    "if '/tigress/wenchang/wython/' not in sys.path:\n",
    "    sys.path.append('/tigress/wenchang/wython/')\n",
    "    \n",
    "from modelout.modelout import get_modelout_data, get_modelout_files"
   ]
  },
  {
   "cell_type": "markdown",
   "id": "38f3b410",
   "metadata": {},
   "source": [
    "# Load data from experiments & compute global mean"
   ]
  },
  {
   "cell_type": "code",
   "execution_count": 3,
   "id": "0485bd59",
   "metadata": {
    "ExecuteTime": {
     "end_time": "2024-11-25T21:48:49.042597Z",
     "start_time": "2024-11-25T21:48:49.038564Z"
    }
   },
   "outputs": [],
   "source": [
    "def get_exps_latlon(model):\n",
    "\n",
    "    # FLOR\n",
    "    if model == 'FLOR':\n",
    "        dsname = 'ocean'\n",
    "        \n",
    "        ## specify experiments\n",
    "        exps = ['p1p0sol_CTL1860','m1p0sol_CTL1860','p2p0sol_CTL1860','m2p0sol_CTL1860',\n",
    "                  'p4p0sol_CTL1860','m4p0sol_CTL1860','p6p0sol_CTL1860','m6p0sol_CTL1860']#,'CTL1860_newdiag']#['CTL1860_newdiag'] \n",
    "        \n",
    "        extension = 'tigercpu_intelmpi_18_576PE'\n",
    "        \n",
    "        latname = 'yt_ocean'#'yt_ocean'\n",
    "        lonname = 'xt_ocean'#'xt_ocean'\n",
    "        \n",
    "        #CTRL: ['CTL1860_newdiag']\n",
    "    #     ['p1p0sol_CTL1860','m1p0sol_CTL1860','p2p0sol_CTL1860','m2p0sol_CTL1860',\n",
    "    #              'p4p0sol_CTL1860','m4p0sol_CTL1860','p6p0sol_CTL1860','m6p0sol_CTL1860']\n",
    "\n",
    "    # CM2.1\n",
    "    if model == 'CM2.1p1':\n",
    "        dsname = 'ocean_month'\n",
    "        \n",
    "        ## specify experiments\n",
    "        exps = ['CTL1860_p1pctSolar','CTL1860_m1pctSolar','CTL1860_p2pctSolar','CTL1860_m2pctSolar',\n",
    "          'CTL1860_p4pctSolar','CTL1860_m4pctSolar','CTL1860_p6pctSolar','CTL1860_m6pctSolar']#,'CTL1860'] \n",
    "        \n",
    "        extension = 'tigercpu_intelmpi_18_80PE'\n",
    "        \n",
    "        latname = 'yt_ocean'#'yt_ocean' #'lat'\n",
    "        lonname = 'xt_ocean'#'xt_ocean' # 'lon'\n",
    "        \n",
    "        #CTRL: ['CTL1860'] \n",
    "        #['CTL1860_p1pctSolar','CTL1860_m1pctSolar','CTL1860_p2pctSolar','CTL1860_m2pctSolar',\n",
    "         # 'CTL1860_p4pctSolar','CTL1860_m4pctSolar','CTL1860_p6pctSolar','CTL1860_m6pctSolar'] \n",
    "    # 'CTL1860_m6pctSolar_from1001',\n",
    "    #             'CTL1860_m6pctSolar_from2001',\n",
    "    #             'CTL1860_m6pctSolar_from3001'\n",
    "        \n",
    "    return dsname, exps, extension, latname, lonname"
   ]
  },
  {
   "cell_type": "code",
   "execution_count": 4,
   "id": "beb08eb3",
   "metadata": {
    "ExecuteTime": {
     "end_time": "2024-11-25T21:48:49.776772Z",
     "start_time": "2024-11-25T21:48:49.773698Z"
    }
   },
   "outputs": [],
   "source": [
    "# choose a function to apply to the loaded data\n",
    "\n",
    "# global mean\n",
    "# func = lambda da: da.weighted(np.cos(np.deg2rad(da[latname]))).mean((lonname,latname))\n",
    "# output_dir = './global_mean'\n",
    "# funcname = 'gm'\n",
    "\n",
    "# global annual mean\n",
    "func = lambda da: da.weighted(np.cos(np.deg2rad(da[latname]))).mean((lonname,latname)).groupby('time.year').mean(dim='time')\n",
    "output_dir = './global_mean_annual'\n",
    "funcname = 'gm_ann'\n",
    "\n",
    "# zonal mean\n",
    "# func = lambda da: da.weighted(np.cos(np.deg2rad(da[latname]))).mean((lonname))\n",
    "# funcname = 'zm'\n",
    "\n",
    "# load\n",
    "# func = lambda x: x.load()\n",
    "# funcname = 'output'\n",
    "# output_dir = './MODEL_OUT/'\n",
    "\n"
   ]
  },
  {
   "cell_type": "code",
   "execution_count": 5,
   "id": "b81643f4-3d03-4d5a-8ac1-141da3da7ed4",
   "metadata": {
    "ExecuteTime": {
     "end_time": "2024-11-25T21:48:50.439769Z",
     "start_time": "2024-11-25T21:48:50.436729Z"
    }
   },
   "outputs": [],
   "source": [
    "# find files that start with a certain pattern\n",
    "def file_exists(directory,start_str):\n",
    "    import os\n",
    "    files = [f for f in os.listdir(directory) if f.startswith(start_str)]\n",
    "\n",
    "    # If you want to handle only the first matching file\n",
    "    if files:\n",
    "        matching_file = files[0]\n",
    "        print(f\"Found file: {matching_file}\")\n",
    "        return 1\n",
    "    else:\n",
    "        print(f\"No file found for {directory}{start_str}\")\n",
    "        return 0"
   ]
  },
  {
   "cell_type": "code",
   "execution_count": 6,
   "id": "1334f0e5-be4e-45b5-adf4-7fae00793809",
   "metadata": {
    "ExecuteTime": {
     "end_time": "2024-11-25T21:48:51.032230Z",
     "start_time": "2024-11-25T21:48:51.029608Z"
    }
   },
   "outputs": [],
   "source": [
    "def get_startyr(expname):\n",
    "    if 'from1001' in expname:\n",
    "        startyr = 1001\n",
    "    elif 'from2001' in expname:\n",
    "        startyr = 2001\n",
    "    elif 'from3001' in expname:\n",
    "        startyr = 3001\n",
    "    else:\n",
    "        startyr = 101 # default\n",
    "    return startyr"
   ]
  },
  {
   "cell_type": "code",
   "execution_count": 7,
   "id": "88c7a59d-b3de-4c12-92aa-4b3765190a2e",
   "metadata": {
    "ExecuteTime": {
     "end_time": "2024-11-25T22:00:48.119279Z",
     "start_time": "2024-11-25T22:00:47.366350Z"
    },
    "scrolled": true
   },
   "outputs": [
    {
     "name": "stdout",
     "output_type": "stream",
     "text": [
      "FLOR p1p0sol_CTL1860_tigercpu_intelmpi_18_576PE ocean\n",
      "Start year: 101, End year: 600\n",
      "[101 601]\n",
      "range(101, 601)\n",
      "0101 0600\n",
      "Found file: temp_FLOR_p1p0sol_CTL1860_tigercpu_intelmpi_18_576PE_0101-0600_gm_ann.nc\n",
      "FLOR m1p0sol_CTL1860_tigercpu_intelmpi_18_576PE ocean\n",
      "Start year: 101, End year: 600\n",
      "[101 601]\n",
      "range(101, 601)\n",
      "0101 0600\n",
      "Found file: temp_FLOR_m1p0sol_CTL1860_tigercpu_intelmpi_18_576PE_0101-0600_gm_ann.nc\n",
      "FLOR p2p0sol_CTL1860_tigercpu_intelmpi_18_576PE ocean\n",
      "Start year: 101, End year: 400\n",
      "[101 401]\n",
      "range(101, 401)\n",
      "0101 0400\n",
      "Found file: temp_FLOR_p2p0sol_CTL1860_tigercpu_intelmpi_18_576PE_0101-0400_gm_ann.nc\n",
      "FLOR m2p0sol_CTL1860_tigercpu_intelmpi_18_576PE ocean\n",
      "Start year: 101, End year: 400\n",
      "[101 401]\n",
      "range(101, 401)\n",
      "0101 0400\n",
      "Found file: temp_FLOR_m2p0sol_CTL1860_tigercpu_intelmpi_18_576PE_0101-0400_gm_ann.nc\n",
      "FLOR p4p0sol_CTL1860_tigercpu_intelmpi_18_576PE ocean\n",
      "Start year: 101, End year: 400\n",
      "[101 401]\n",
      "range(101, 401)\n",
      "0101 0400\n",
      "Found file: temp_FLOR_p4p0sol_CTL1860_tigercpu_intelmpi_18_576PE_0101-0400_gm_ann.nc\n",
      "FLOR m4p0sol_CTL1860_tigercpu_intelmpi_18_576PE ocean\n",
      "Start year: 101, End year: 1187\n",
      "[ 101 1188]\n",
      "range(101, 1188)\n",
      "0101 1187\n",
      "Found file: temp_FLOR_m4p0sol_CTL1860_tigercpu_intelmpi_18_576PE_0101-1187_gm_ann.nc\n",
      "FLOR p6p0sol_CTL1860_tigercpu_intelmpi_18_576PE ocean\n",
      "Start year: 101, End year: 1000\n",
      "[ 101 1001]\n",
      "range(101, 1001)\n",
      "0101 1000\n",
      "Found file: temp_FLOR_p6p0sol_CTL1860_tigercpu_intelmpi_18_576PE_0101-1000_gm_ann.nc\n",
      "FLOR m6p0sol_CTL1860_tigercpu_intelmpi_18_576PE ocean\n",
      "Start year: 101, End year: 597\n",
      "[101 598]\n",
      "range(101, 598)\n",
      "0101 0597\n",
      "Found file: temp_FLOR_m6p0sol_CTL1860_tigercpu_intelmpi_18_576PE_0101-0597_gm_ann.nc\n",
      "CM2.1p1 CTL1860_p1pctSolar_tigercpu_intelmpi_18_80PE ocean_month\n",
      "Start year: 101, End year: 300\n",
      "[101 301]\n",
      "range(101, 301)\n",
      "0101 0300\n",
      "Found file: temp_CM2.1p1_CTL1860_p1pctSolar_tigercpu_intelmpi_18_80PE_0101-0300_gm_ann.nc\n",
      "CM2.1p1 CTL1860_m1pctSolar_tigercpu_intelmpi_18_80PE ocean_month\n",
      "Start year: 101, End year: 300\n",
      "[101 301]\n",
      "range(101, 301)\n",
      "0101 0300\n",
      "Found file: temp_CM2.1p1_CTL1860_m1pctSolar_tigercpu_intelmpi_18_80PE_0101-0300_gm_ann.nc\n",
      "CM2.1p1 CTL1860_p2pctSolar_tigercpu_intelmpi_18_80PE ocean_month\n",
      "Start year: 101, End year: 1100\n",
      "[ 101 1101]\n",
      "range(101, 1101)\n",
      "0101 1100\n",
      "Found file: temp_CM2.1p1_CTL1860_p2pctSolar_tigercpu_intelmpi_18_80PE_0101-1100_gm_ann.nc\n",
      "CM2.1p1 CTL1860_m2pctSolar_tigercpu_intelmpi_18_80PE ocean_month\n",
      "Start year: 101, End year: 1100\n",
      "[ 101 1101]\n",
      "range(101, 1101)\n",
      "0101 1100\n",
      "Found file: temp_CM2.1p1_CTL1860_m2pctSolar_tigercpu_intelmpi_18_80PE_0101-1100_gm_ann.nc\n",
      "CM2.1p1 CTL1860_p4pctSolar_tigercpu_intelmpi_18_80PE ocean_month\n",
      "Start year: 101, End year: 2000\n",
      "[ 101 2001]\n",
      "range(101, 2001)\n",
      "0101 2000\n",
      "Found file: temp_CM2.1p1_CTL1860_p4pctSolar_tigercpu_intelmpi_18_80PE_0101-2000_gm_ann.nc\n",
      "CM2.1p1 CTL1860_m4pctSolar_tigercpu_intelmpi_18_80PE ocean_month\n",
      "Start year: 101, End year: 2000\n",
      "[ 101 2001]\n",
      "range(101, 2001)\n",
      "0101 2000\n",
      "Found file: temp_CM2.1p1_CTL1860_m4pctSolar_tigercpu_intelmpi_18_80PE_0101-2000_gm_ann.nc\n",
      "CM2.1p1 CTL1860_p6pctSolar_tigercpu_intelmpi_18_80PE ocean_month\n",
      "Start year: 101, End year: 310\n",
      "[101 311]\n",
      "range(101, 311)\n",
      "0101 0310\n",
      "Found file: temp_CM2.1p1_CTL1860_p6pctSolar_tigercpu_intelmpi_18_80PE_0101-0310_gm_ann.nc\n",
      "CM2.1p1 CTL1860_m6pctSolar_tigercpu_intelmpi_18_80PE ocean_month\n",
      "Start year: 101, End year: 1293\n",
      "[ 101 1294]\n",
      "range(101, 1294)\n",
      "0101 1293\n",
      "Found file: temp_CM2.1p1_CTL1860_m6pctSolar_tigercpu_intelmpi_18_80PE_0101-1293_gm_ann.nc\n"
     ]
    }
   ],
   "source": [
    "yearchunk = None #100 # chunks of years # 100, None\n",
    "totalyears = None #600 #1000 # None # set cutoff before end of data availability (ex. control runs)\n",
    "# SET START YEAR BELOW IF NEEDED\n",
    "# totalyears is the length of the desired data \n",
    "\n",
    "models = ['FLOR','CM2.1p1'] #['FLOR','CM2.1p1']\n",
    "\n",
    "vars = 'temp' \n",
    "varnames = vars.split()\n",
    "\n",
    "for model in models:\n",
    "\n",
    "    # if model == 'CM2.1p1': vars = 'salt' #'temp salt pot_rho_0' \n",
    "    # if model == 'FLOR': vars = 'salt' #'temp salt pot_rho_0'\n",
    "    # varnames = vars.split()\n",
    "\n",
    "    dsname, exps, extension, latname, lonname = get_exps_latlon(model)\n",
    "    #print(latname,lonname)\n",
    "\n",
    "    #func, funcname, output_dir = getfunc_NPacific(latname,lonname) # north Pacific only\n",
    "\n",
    "    for iexp in range(np.size(exps)):\n",
    "        \n",
    "        expname = f'{exps[iexp]}_{extension}' # set name of experiment\n",
    "\n",
    "        # detect how many years there are in the experiment #############\n",
    "        print(model, expname, dsname)\n",
    "        files, allyears = get_modelout_files(model, expname, dsname=dsname, ens=None)\n",
    "\n",
    "        # find start year (101 by default, but 1001, 2001, 3001 for -6% Solar ensemble members\n",
    "        startyr = get_startyr(expname)\n",
    "        # for ensemble, change the end year make the data the same length for all ensemble members\n",
    "        if totalyears == None:\n",
    "            endyr = allyears[-1]\n",
    "        else:\n",
    "            endyr = startyr + totalyears - 1\n",
    "        print(f'Start year: {startyr}, End year: {endyr}')\n",
    "        \n",
    "        # select years\n",
    "        if yearchunk == None:\n",
    "            if totalyears != None: # select if want to cut off early\n",
    "                yrlims = np.array([startyr,endyr + 1])\n",
    "            else:\n",
    "                yrlims = np.array([startyr,allyears[-1]+1])\n",
    "        else:\n",
    "            if totalyears != None:  # if want to cut off early\n",
    "                yrlims = np.arange(startyr,endyr+yearchunk,yearchunk)\n",
    "            else:\n",
    "                yrlims = np.arange(startyr,allyears[-1]+yearchunk,yearchunk)\n",
    "        \n",
    "        if allyears[-1]+1 < yrlims[-1]:\n",
    "            yrlims[-1] = allyears[-1]+1    # end at the final year of the data available, if not cleanly divided into chunks\n",
    "\n",
    "        \n",
    "        print(yrlims)\n",
    "\n",
    "        for iyr in range(np.size(yrlims) - 1): # specify the year range\n",
    "            \n",
    "            years = range(yrlims[iyr],yrlims[iyr+1])\n",
    "            print(years)\n",
    "    \n",
    "            for ivar in range(np.size(varnames)):\n",
    "\n",
    "                daname = varnames[ivar]\n",
    "                \n",
    "                # check whether the file already exists\n",
    "                if years != None:\n",
    "                    if years[0] < 1000: year1str = f'0{years[0]}'\n",
    "                    else: year1str = f'{years[0]}'\n",
    "                    if years[-1] < 1000: year2str = f'0{years[-1]}'\n",
    "                    else: year2str = f'{years[-1]}'\n",
    "                    print(year1str, year2str)\n",
    "                    \n",
    "                    output_filename = f'{daname}_{model}_{expname}_{year1str}-{year2str}_{funcname}.nc'\n",
    "                else:\n",
    "                    output_filename = f'{daname}_{model}_{expname}'\n",
    "                \n",
    "                if file_exists(output_dir, output_filename) == 1:\n",
    "                     continue\n",
    "                    \n",
    "                if yearchunk != None or endyr != None: # if chunking by years\n",
    "                    da = get_modelout_data(daname=daname, model=model, expname=expname, \n",
    "                                       years=years, \n",
    "                                       func=func, funcname=funcname, dsname=dsname)\n",
    "                else: # if not chunking by years\n",
    "                    da = get_modelout_data(daname=daname, model=model, expname=expname, #years=years, \n",
    "                                       func=func, funcname=funcname, dsname=dsname)"
   ]
  },
  {
   "cell_type": "code",
   "execution_count": 15,
   "id": "8c6a8c00-b923-4129-8f01-39576ce557d5",
   "metadata": {},
   "outputs": [
    {
     "name": "stdout",
     "output_type": "stream",
     "text": [
      "Moved temp_CM2.1p1_CTL1860_m1pctSolar_tigercpu_intelmpi_18_80PE_0101-0300_gm_ann.nc to ./global_mean_annual\n",
      "Moved temp_FLOR_p2p0sol_CTL1860_tigercpu_intelmpi_18_576PE_0101-0400_gm_ann.nc to ./global_mean_annual\n",
      "Moved temp_FLOR_m6p0sol_CTL1860_tigercpu_intelmpi_18_576PE_0101-0597_gm_ann.nc to ./global_mean_annual\n",
      "Moved temp_CM2.1p1_CTL1860_m4pctSolar_tigercpu_intelmpi_18_80PE_0101-2000_gm_ann.nc to ./global_mean_annual\n",
      "Moved temp_CM2.1p1_CTL1860_p6pctSolar_tigercpu_intelmpi_18_80PE_0101-0310_gm_ann.nc to ./global_mean_annual\n",
      "Moved temp_FLOR_m2p0sol_CTL1860_tigercpu_intelmpi_18_576PE_0101-0400_gm_ann.nc to ./global_mean_annual\n",
      "Moved temp_FLOR_m1p0sol_CTL1860_tigercpu_intelmpi_18_576PE_0101-0600_gm_ann.nc to ./global_mean_annual\n",
      "Moved temp_CM2.1p1_CTL1860_m2pctSolar_tigercpu_intelmpi_18_80PE_0101-1100_gm_ann.nc to ./global_mean_annual\n",
      "Moved temp_CM2.1p1_CTL1860_p1pctSolar_tigercpu_intelmpi_18_80PE_0101-0300_gm_ann.nc to ./global_mean_annual\n",
      "Moved temp_FLOR_p1p0sol_CTL1860_tigercpu_intelmpi_18_576PE_0101-0600_gm_ann.nc to ./global_mean_annual\n",
      "Moved temp_CM2.1p1_CTL1860_p2pctSolar_tigercpu_intelmpi_18_80PE_0101-1100_gm_ann.nc to ./global_mean_annual\n",
      "Moved temp_CM2.1p1_CTL1860_m6pctSolar_tigercpu_intelmpi_18_80PE_0101-1293_gm_ann.nc to ./global_mean_annual\n"
     ]
    }
   ],
   "source": [
    "run organize.py"
   ]
  },
  {
   "cell_type": "markdown",
   "id": "940383ae-96fd-457a-b590-72af13309f94",
   "metadata": {},
   "source": [
    "# Average deep ocean dT/dt and upper ocean dT/dt over time before computing ratio"
   ]
  },
  {
   "cell_type": "code",
   "execution_count": 8,
   "id": "fdee90ab-cb7d-4759-95af-2cdf7f7fbdf5",
   "metadata": {},
   "outputs": [],
   "source": [
    "def std_error(da, dim):\n",
    "    sigma = da.std(dim)\n",
    "    n = da.count(dim)\n",
    "    return sigma / np.sqrt(n)\n",
    "\n",
    "def get_OHU_ratio(da, boundary=500, window=5, startyear=0, endyear=150):\n",
    "    if 'time' in da.dims: \n",
    "        da = da.mean('time')\n",
    "    da_smoothed = da # da.rolling(year=window, center=True).mean('year')\n",
    "    \n",
    "    dT_dt = da_smoothed.differentiate(coord='year')\n",
    "    \n",
    "    dT_dt_upper = dT_dt.sel(st_ocean=slice(0, boundary)).mean('st_ocean')\n",
    "    dT_dt_deep  = dT_dt.sel(st_ocean=slice(boundary, None)).mean('st_ocean')\n",
    "\n",
    "    depth = da.st_ocean\n",
    "    h = (boundary - depth.min()).values\n",
    "    H = (depth.max() - boundary).values\n",
    "\n",
    "    # Slice time range for average and SE\n",
    "    dT_dt_deep_sel = dT_dt_deep.isel(year=slice(startyear, endyear))\n",
    "    dT_dt_upper_sel = dT_dt_upper.isel(year=slice(startyear, endyear))\n",
    "\n",
    "    dT_dt_deep_avg = dT_dt_deep_sel.mean('year')\n",
    "    dT_dt_upper_avg = dT_dt_upper_sel.mean('year')\n",
    "\n",
    "    OHU_ratio = (H * dT_dt_deep_avg) / (h * dT_dt_upper_avg)\n",
    "\n",
    "    dT_dt_deep_SE = std_error(dT_dt_deep_sel, 'year')\n",
    "    dT_dt_upper_SE = std_error(dT_dt_upper_sel, 'year')\n",
    "\n",
    "    OHU_ratio_std_error = OHU_ratio * np.sqrt((dT_dt_deep_SE / dT_dt_deep_avg) ** 2 +\n",
    "                                              (dT_dt_upper_SE / dT_dt_upper_avg) ** 2)\n",
    "    \n",
    "    return OHU_ratio, OHU_ratio_std_error, dT_dt_upper, dT_dt_deep, h, H\n"
   ]
  },
  {
   "cell_type": "code",
   "execution_count": 9,
   "id": "32df051b-3704-41b4-a3cf-8bcbfafbad06",
   "metadata": {},
   "outputs": [],
   "source": [
    "import xarray as xr\n",
    "import numpy as np\n",
    "\n",
    "def compute_ratio_all_exp(boundary=500, start_year=0, end_year=150,\n",
    "                          models=['FLOR', 'CM2.1'],\n",
    "                          dirin='/tigress/mvchung/ANALYSIS/Solar_NEW/global_mean_annual/',\n",
    "                          experiments=['m6', 'm4', 'p4', 'p6'],\n",
    "                          labels=['-6%', '-4%', '+4%', '+6%']):\n",
    "                          # experiments=['m6', 'm4', 'm2', 'm1', 'p1', 'p2', 'p4', 'p6'],\n",
    "                          # labels=['-6%', '-4%', '-2%', '-1%', '+1%', '+2%', '+4%', '+6%']):\n",
    "    \n",
    "    ratio = {}\n",
    "    ratio_error = {}\n",
    "\n",
    "    # lists to store time series across experiments\n",
    "    dT_dt_upper_list = []\n",
    "    dT_dt_deep_list = []\n",
    "    experiment_label_list = []\n",
    "\n",
    "    print('computing...')\n",
    "\n",
    "    for imodel in range(len(models)):\n",
    "        model = models[imodel]\n",
    "        print(model)\n",
    "\n",
    "        for iexp in range(len(experiments)):\n",
    "            experiment = experiments[iexp]\n",
    "\n",
    "            # LOAD OCEAN TEMP DATA\n",
    "            da = find_and_open_xarray_file(dirin, ['temp', model, f'_{experiment}'], verbose=False)\n",
    "            da = da.mean('time') # time dimension is redundant with year dimension\n",
    "\n",
    "            # COMPUTE RATIO\n",
    "            ratio_temp, ratio_SE_temp, dT_dt_upper, dT_dt_deep, h, H = get_OHU_ratio(\n",
    "                da, boundary=boundary, startyear=start_year, endyear=end_year\n",
    "            )\n",
    "\n",
    "            # Save ratio and standard error\n",
    "            var_name = f\"{model} {labels[iexp]}\"\n",
    "            ratio[var_name] = ratio_temp\n",
    "            ratio_error[var_name] = ratio_SE_temp\n",
    "\n",
    "            # Save dT/dt time series\n",
    "            dT_dt_upper_list.append(dT_dt_upper)\n",
    "            dT_dt_deep_list.append(dT_dt_deep)\n",
    "            experiment_label_list.append(var_name)\n",
    "\n",
    "    # Stack into xarray Dataset\n",
    "    ds = xr.Dataset({\n",
    "        'dT_dt_upper': xr.concat(dT_dt_upper_list, dim='experiment'),\n",
    "        'dT_dt_deep': xr.concat(dT_dt_deep_list, dim='experiment')\n",
    "    }, coords={'experiment': experiment_label_list})\n",
    "\n",
    "    print('done.')\n",
    "\n",
    "    return ratio, ratio_error, ds\n"
   ]
  },
  {
   "cell_type": "code",
   "execution_count": 14,
   "id": "3faa7579-e165-4d07-991b-82486170f860",
   "metadata": {},
   "outputs": [],
   "source": [
    "def barplot_allexp_ratio(ratio, ratio_error):\n",
    "    # Convert dictionary to DataFrame\n",
    "    import pandas as pd\n",
    "    df = pd.DataFrame(ratio.items(), columns=[\"Experiment\", \"Ratio\"])\n",
    "    \n",
    "    # Extract model and experiment separately\n",
    "    df[\"Model\"] = df[\"Experiment\"].apply(lambda x: \"FLOR\" if \"FLOR\" in x else \"CM2.1\")\n",
    "    df[\"Experiment\"] = df[\"Experiment\"].apply(lambda x: x.split()[-1])  # Get just the percentage\n",
    "    df[\"StdErr\"] = df[\"Experiment\"].combine(df[\"Model\"], lambda exp, model: ratio_error[f\"{model} {exp}\"])\n",
    "    \n",
    "    # Define experiment order\n",
    "    #experiment_order = [ \"-6%\", \"-4%\",\"-2%\",\"-1%\",\"+1%\",\"+2%\", \"+4%\",\"+6%\", ]\n",
    "    experiment_order = [ \"-6%\", \"-4%\",\"+4%\",\"+6%\", ]\n",
    "    \n",
    "    # Define colors for each experiment\n",
    "    colors = {\n",
    "        \"+6%\": \"darkred\",\n",
    "        \"+4%\": \"red\",\n",
    "        \"+2%\": \"orange\",\n",
    "        \"+1%\": \"gold\",\n",
    "        \"-1%\": \"cyan\",\n",
    "        \"-2%\": \"dodgerblue\",\n",
    "        \"-4%\": \"blue\",\n",
    "        \"-6%\": \"darkblue\"\n",
    "    }\n",
    "    \n",
    "    # Define hatch for CM2.1\n",
    "    hatches = {\n",
    "        \"FLOR\": None,    # Solid color\n",
    "        \"CM2.1\": \"//\"    # Hatched pattern\n",
    "    }\n",
    "    \n",
    "    # Sort data by the custom experiment order\n",
    "    df[\"Experiment\"] = pd.Categorical(df[\"Experiment\"], categories=experiment_order, ordered=True)\n",
    "    df = df.sort_values(by=\"Experiment\")\n",
    "    \n",
    "    # Create the plot\n",
    "    fig, ax = plt.subplots(figsize=(8, 5))\n",
    "    width = 0.4  # Bar width\n",
    "    x = np.arange(len(experiment_order))  # X positions for grouped bars\n",
    "    \n",
    "    for i, model in enumerate([\"FLOR\", \"CM2.1\"]):\n",
    "        subset = df[df[\"Model\"] == model]\n",
    "        bars = ax.bar(\n",
    "            x + (i - 0.5) * width,  # Shift left (-0.5) for FLOR, right (+0.5) for CM2.1\n",
    "            subset[\"Ratio\"],\n",
    "            width=width,\n",
    "            #label=model,\n",
    "            color=[colors[exp] for exp in subset[\"Experiment\"]],\n",
    "            hatch=hatches[model],\n",
    "            edgecolor=\"white\",\n",
    "            yerr=subset[\"StdErr\"],\n",
    "            capsize=4,\n",
    "            error_kw={\"ecolor\": \"gray\", \"elinewidth\": 1.5},  # <-- Set gray error bars\n",
    "        )\n",
    "    \n",
    "    import matplotlib.patches as mpatches\n",
    "    # Custom legend with black-and-white bars\n",
    "    solid_patch = mpatches.Patch(facecolor=\"black\", edgecolor=\"white\", label=\"FLOR\")\n",
    "    hatched_patch = mpatches.Patch(facecolor=\"black\", edgecolor=\"white\", hatch=\"//\", label=\"CM2.1\")\n",
    "    ax.legend(handles=[solid_patch, hatched_patch], title=\"Model\", frameon=True)\n",
    "    \n",
    "    # Formatting\n",
    "    ax.set_xlabel(\"Solar Experiment\")\n",
    "    ax.set_ylabel(\"Ratio\")\n",
    "    ax.set_title(f\"Depth-weighted ratio of deep to upper OHU (Years {start_year}-{end_year}) \\n boundary = {boundary}m\")\n",
    "    ax.set_xticks(x)\n",
    "    ax.set_xticklabels(experiment_order)\n",
    "    \n",
    "    print('Shown with standard error from timeseries.')\n",
    "\n",
    "    #plt.show()\n",
    "    #ax.set_ylim(-20,20)"
   ]
  },
  {
   "cell_type": "markdown",
   "id": "af1f36f8-af50-41ca-9a3b-11b9f9233252",
   "metadata": {},
   "source": [
    "# run"
   ]
  },
  {
   "cell_type": "code",
   "execution_count": 15,
   "id": "68d02e9e-3538-4b62-9b8a-0cb1f4fe273c",
   "metadata": {},
   "outputs": [
    {
     "name": "stdout",
     "output_type": "stream",
     "text": [
      "computing...\n",
      "FLOR\n",
      "CM2.1\n",
      "done.\n",
      "Shown with standard error from timeseries.\n"
     ]
    },
    {
     "data": {
      "image/png": "[encoded data removed]",
      "text/plain": [
       "<Figure size 800x500 with 1 Axes>"
      ]
     },
     "metadata": {},
     "output_type": "display_data"
    }
   ],
   "source": [
    "start_year = 20\n",
    "end_year = 200\n",
    "boundary = 500\n",
    "\n",
    "ratio, ratio_error, ts = compute_ratio_all_exp(boundary = boundary, start_year = start_year, end_year = end_year)\n",
    "barplot_allexp_ratio(ratio, ratio_error)\n",
    "\n",
    "plt.savefig('Figure3.pdf', bbox_inches='tight', dpi=300)"
   ]
  },
  {
   "cell_type": "markdown",
   "id": "03d3a24c-f7b8-48c1-aa7f-ed4b3d0d9ede",
   "metadata": {},
   "source": [
    "### try with different boundary"
   ]
  },
  {
   "cell_type": "code",
   "execution_count": 12,
   "id": "8afc3fed-c88b-423c-84a5-a0cae999c686",
   "metadata": {},
   "outputs": [
    {
     "name": "stdout",
     "output_type": "stream",
     "text": [
      "computing...\n",
      "FLOR\n",
      "CM2.1\n",
      "done.\n",
      "Shown with standard error from timeseries.\n"
     ]
    },
    {
     "data": {
      "image/png": "[encoded data removed]",
      "text/plain": [
       "<Figure size 800x500 with 1 Axes>"
      ]
     },
     "metadata": {},
     "output_type": "display_data"
    }
   ],
   "source": [
    "start_year = 20\n",
    "end_year = 200\n",
    "boundary = 250\n",
    "\n",
    "ratio, ratio_error, ts = compute_ratio_all_exp(boundary = boundary, start_year = start_year, end_year = end_year)\n",
    "barplot_allexp_ratio(ratio, ratio_error)"
   ]
  },
  {
   "cell_type": "code",
   "execution_count": null,
   "id": "2620f345-6c54-4d16-bb19-1ebd9ae5ec75",
   "metadata": {},
   "outputs": [],
   "source": []
  }
 ],
 "metadata": {
  "kernelspec": {
   "display_name": "geoclim [~/home/GEOCLIM/software/anaconda3/2024.10/envs/geoclim/]",
   "language": "python",
   "name": "conda_geoclim"
  },
  "language_info": {
   "codemirror_mode": {
    "name": "ipython",
    "version": 3
   },
   "file_extension": ".py",
   "mimetype": "text/x-python",
   "name": "python",
   "nbconvert_exporter": "python",
   "pygments_lexer": "ipython3",
   "version": "3.10.13"
  }
 },
 "nbformat": 4,
 "nbformat_minor": 5
}
